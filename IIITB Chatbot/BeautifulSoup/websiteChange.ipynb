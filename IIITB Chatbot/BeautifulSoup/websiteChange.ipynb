{
 "cells": [
  {
   "attachments": {},
   "cell_type": "markdown",
   "metadata": {},
   "source": [
    "Code To monitor website changes in BeautifulSoup"
   ]
  },
  {
   "cell_type": "code",
   "execution_count": null,
   "metadata": {},
   "outputs": [],
   "source": [
    "import requests\n",
    "import time\n",
    "from bs4 import BeautifulSoup\n",
    "\n",
    "def monitor_website_changes(url):\n",
    "    soup = BeautifulSoup(requests.get(url).text, 'html.parser')\n",
    "    html_code = soup.prettify()\n",
    "\n",
    "    previous_html_code = None\n",
    "    if os.path.exists('previous_html_code.txt'):\n",
    "        with open('previous_html_code.txt', 'r') as f:\n",
    "            previous_html_code = f.read()\n",
    "\n",
    "    if html_code != previous_html_code:\n",
    "        print('The website has been updated!')\n",
    "        with open('previous_html_code.txt', 'w') as f:\n",
    "            f.write(html_code)\n",
    "\n",
    "if __name__ == '__main__':\n",
    "    url = 'https://www.example.com/'\n",
    "    monitor_website_changes(url)\n",
    "\n",
    "    # This will schedule the task to run every 30 seconds.\n",
    "    while True:\n",
    "        time.sleep(30)\n",
    "        monitor_website_changes(url)\n"
   ]
  }
 ],
 "metadata": {
  "language_info": {
   "name": "python"
  },
  "orig_nbformat": 4
 },
 "nbformat": 4,
 "nbformat_minor": 2
}
